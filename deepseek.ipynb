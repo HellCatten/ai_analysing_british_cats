{
 "cells": [
  {
   "cell_type": "code",
   "execution_count": 10,
   "id": "f870b258",
   "metadata": {},
   "outputs": [
    {
     "name": "stdout",
     "output_type": "stream",
     "text": [
      "✅ Клиент DeepSeek успешно сконфигурирован с новым API.\n",
      "\n",
      "Список доступных моделей:\n",
      "- deepseek-chat\n",
      "- deepseek-reasoner\n"
     ]
    }
   ],
   "source": [
    "# --- ЯЧЕЙКА ДИАГНОСТИКИ ---\n",
    "from openai import OpenAI\n",
    "from dotenv import load_dotenv\n",
    "import os\n",
    "\n",
    "load_dotenv()\n",
    "\n",
    "try:\n",
    "    # Используем НОВЫЙ, правильный base_url без /v1\n",
    "    client = OpenAI(api_key=os.getenv(\"DEEPSEEK_API_KEY\"), base_url=\"https://api.deepseek.com\")\n",
    "    \n",
    "    print(\"✅ Клиент DeepSeek успешно сконфигурирован с новым API.\\n\")\n",
    "    print(\"Список доступных моделей:\")\n",
    "    \n",
    "    models_list = client.models.list()\n",
    "    for model in models_list:\n",
    "        print(f\"- {model.id}\")\n",
    "\n",
    "except Exception as e:\n",
    "    print(f\"❌ Ошибка при подключении или запросе списка моделей: {e}\")"
   ]
  },
  {
   "cell_type": "code",
   "execution_count": 11,
   "id": "dc25baea",
   "metadata": {},
   "outputs": [
    {
     "name": "stdout",
     "output_type": "stream",
     "text": [
      "Начинаем обработку 30 изображений моделью DeepSeek...\n"
     ]
    },
    {
     "name": "stderr",
     "output_type": "stream",
     "text": [
      "DeepSeek Processing: 100%|██████████| 30/30 [00:28<00:00,  1.05it/s]"
     ]
    },
    {
     "name": "stdout",
     "output_type": "stream",
     "text": [
      "✅ Результаты DeepSeek сохранены в 'deepseek_vision_results.csv'.\n"
     ]
    },
    {
     "name": "stderr",
     "output_type": "stream",
     "text": [
      "\n"
     ]
    },
    {
     "data": {
      "text/html": [
       "<div>\n",
       "<style scoped>\n",
       "    .dataframe tbody tr th:only-of-type {\n",
       "        vertical-align: middle;\n",
       "    }\n",
       "\n",
       "    .dataframe tbody tr th {\n",
       "        vertical-align: top;\n",
       "    }\n",
       "\n",
       "    .dataframe thead th {\n",
       "        text-align: right;\n",
       "    }\n",
       "</style>\n",
       "<table border=\"1\" class=\"dataframe\">\n",
       "  <thead>\n",
       "    <tr style=\"text-align: right;\">\n",
       "      <th></th>\n",
       "      <th>filename</th>\n",
       "      <th>deepseek_response</th>\n",
       "    </tr>\n",
       "  </thead>\n",
       "  <tbody>\n",
       "    <tr>\n",
       "      <th>0</th>\n",
       "      <td>brit1.jpg</td>\n",
       "      <td>Error: HTTPError, Details: 404 Client Error: N...</td>\n",
       "    </tr>\n",
       "    <tr>\n",
       "      <th>1</th>\n",
       "      <td>brit10.jpg</td>\n",
       "      <td>Error: HTTPError, Details: 404 Client Error: N...</td>\n",
       "    </tr>\n",
       "    <tr>\n",
       "      <th>2</th>\n",
       "      <td>brit2.jpg</td>\n",
       "      <td>Error: HTTPError, Details: 404 Client Error: N...</td>\n",
       "    </tr>\n",
       "    <tr>\n",
       "      <th>3</th>\n",
       "      <td>brit3.jpg</td>\n",
       "      <td>Error: HTTPError, Details: 404 Client Error: N...</td>\n",
       "    </tr>\n",
       "    <tr>\n",
       "      <th>4</th>\n",
       "      <td>brit4.jpg</td>\n",
       "      <td>Error: HTTPError, Details: 404 Client Error: N...</td>\n",
       "    </tr>\n",
       "  </tbody>\n",
       "</table>\n",
       "</div>"
      ],
      "text/plain": [
       "     filename                                  deepseek_response\n",
       "0   brit1.jpg  Error: HTTPError, Details: 404 Client Error: N...\n",
       "1  brit10.jpg  Error: HTTPError, Details: 404 Client Error: N...\n",
       "2   brit2.jpg  Error: HTTPError, Details: 404 Client Error: N...\n",
       "3   brit3.jpg  Error: HTTPError, Details: 404 Client Error: N...\n",
       "4   brit4.jpg  Error: HTTPError, Details: 404 Client Error: N..."
      ]
     },
     "metadata": {},
     "output_type": "display_data"
    }
   ],
   "source": [
    "# --- СКРИПТ ДЛЯ DEEPSEEK (ФИНАЛЬНАЯ РАБОЧАЯ ВЕРСИЯ) ---\n",
    "import os\n",
    "import pandas as pd\n",
    "from tqdm import tqdm\n",
    "from dotenv import load_dotenv\n",
    "import requests # Мы используем requests напрямую, как вы и предложили\n",
    "import base64\n",
    "\n",
    "# --- Загрузка ключа ---\n",
    "load_dotenv()\n",
    "DEEPSEEK_API_KEY = os.getenv(\"DEEPSEEK_API_KEY\")\n",
    "\n",
    "# --- Конфигурация с правильными данными ---\n",
    "DEEPSEEK_API_URL = \"https://api.deepseek.com/v1/vision\" # <-- 1. ПРАВИЛЬНЫЙ URL\n",
    "MODEL_DEEPSEEK = \"deepseek-vision\" # <-- 2. ПРАВИЛЬНАЯ МОДЕЛЬ\n",
    "IMG_DIR = \"img\"\n",
    "PROMPT = \"Скажи, изображена ли на данном фото кошка породы \\\"Британская короткошерстная\\\", дай коротки ответ \\\"да\\\" или \\\"нет\\\".\"\n",
    "DEEPSEEK_RESULTS_FILE = \"deepseek_vision_results.csv\"\n",
    "\n",
    "# --- Функция запроса, переписанная под новый API ---\n",
    "def query_deepseek_vision(image_path, prompt):\n",
    "    headers = {\n",
    "        \"Authorization\": f\"Bearer {DEEPSEEK_API_KEY}\",\n",
    "        \"Content-Type\": \"application/json\"\n",
    "    }\n",
    "    \n",
    "    try:\n",
    "        with open(image_path, \"rb\") as image_file:\n",
    "            base64_image = base64.b64encode(image_file.read()).decode('utf-8')\n",
    "        \n",
    "        # <-- 3. ПРАВИЛЬНАЯ СТРУКТУРА PAYLOAD\n",
    "        payload = {\n",
    "            \"model\": MODEL_DEEPSEEK,\n",
    "            \"image\": base64_image,\n",
    "            \"prompt\": prompt\n",
    "        }\n",
    "\n",
    "        response = requests.post(DEEPSEEK_API_URL, headers=headers, json=payload, timeout=60)\n",
    "        response.raise_for_status() # Проверяем на ошибки HTTP (4xx/5xx)\n",
    "        \n",
    "        # Извлекаем ответ из JSON. Структура может отличаться, адаптируем под то, что вернет API.\n",
    "        # Чаще всего это что-то вроде {'choices': [{'message': '...'}]}\n",
    "        response_data = response.json()\n",
    "        return response_data.get('choices', [{}])[0].get('message', 'Error: Could not parse response').strip()\n",
    "\n",
    "    except requests.exceptions.RequestException as e:\n",
    "        # Ловим сетевые ошибки и ошибки ответа сервера\n",
    "        return f\"Error: {type(e).__name__}, Details: {e.response.text if e.response else e}\"\n",
    "    except Exception as e:\n",
    "        # Ловим другие возможные ошибки (например, при чтении файла)\n",
    "        return f\"Error: {type(e).__name__}, Details: {e}\"\n",
    "\n",
    "# --- Основной цикл (без изменений) ---\n",
    "if DEEPSEEK_API_KEY:\n",
    "    try:\n",
    "        image_files = sorted([f for f in os.listdir(IMG_DIR) if f.endswith(('.jpg', '.jpeg', '.png'))])\n",
    "        results_data = []\n",
    "        \n",
    "        print(f\"Начинаем обработку {len(image_files)} изображений моделью DeepSeek...\")\n",
    "        for filename in tqdm(image_files, desc=\"DeepSeek Processing\"):\n",
    "            image_path = os.path.join(IMG_DIR, filename)\n",
    "            response = query_deepseek_vision(image_path, PROMPT)\n",
    "            results_data.append({\"filename\": filename, \"deepseek_response\": response})\n",
    "            \n",
    "        df_results = pd.DataFrame(results_data)\n",
    "        df_results.to_csv(DEEPSEEK_RESULTS_FILE, index=False, encoding='utf-8')\n",
    "        print(f\"✅ Результаты DeepSeek сохранены в '{DEEPSEEK_RESULTS_FILE}'.\")\n",
    "        display(df_results.head())\n",
    "\n",
    "    except FileNotFoundError:\n",
    "        print(f\"❌ Ошибка: Директория '{IMG_DIR}' не найдена.\")\n",
    "else:\n",
    "    print(\"❌ API ключ для DeepSeek не найден в .env файле.\")"
   ]
  }
 ],
 "metadata": {
  "kernelspec": {
   "display_name": "Python 3",
   "language": "python",
   "name": "python3"
  },
  "language_info": {
   "codemirror_mode": {
    "name": "ipython",
    "version": 3
   },
   "file_extension": ".py",
   "mimetype": "text/x-python",
   "name": "python",
   "nbconvert_exporter": "python",
   "pygments_lexer": "ipython3",
   "version": "3.13.7"
  }
 },
 "nbformat": 4,
 "nbformat_minor": 5
}
