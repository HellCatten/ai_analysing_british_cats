{
 "cells": [
  {
   "cell_type": "code",
   "execution_count": 3,
   "id": "3ec58e7d",
   "metadata": {},
   "outputs": [
    {
     "name": "stdout",
     "output_type": "stream",
     "text": [
      "Получаем токен доступа для GigaChat...\n"
     ]
    },
    {
     "name": "stderr",
     "output_type": "stream",
     "text": [
      "c:\\Users\\Матвей\\AppData\\Local\\Programs\\Python\\Python313\\Lib\\site-packages\\urllib3\\connectionpool.py:1097: InsecureRequestWarning: Unverified HTTPS request is being made to host 'ngw.devices.sberbank.ru'. Adding certificate verification is strongly advised. See: https://urllib3.readthedocs.io/en/latest/advanced-usage.html#tls-warnings\n",
      "  warnings.warn(\n"
     ]
    },
    {
     "name": "stdout",
     "output_type": "stream",
     "text": [
      "✅ Токен успешно получен. Начинаем работу.\n"
     ]
    },
    {
     "name": "stderr",
     "output_type": "stream",
     "text": [
      "GigaChat Processing:   0%|          | 0/10 [00:00<?, ?it/s]c:\\Users\\Матвей\\AppData\\Local\\Programs\\Python\\Python313\\Lib\\site-packages\\urllib3\\connectionpool.py:1097: InsecureRequestWarning: Unverified HTTPS request is being made to host 'gigachat.devices.sberbank.ru'. Adding certificate verification is strongly advised. See: https://urllib3.readthedocs.io/en/latest/advanced-usage.html#tls-warnings\n",
      "  warnings.warn(\n",
      "GigaChat Processing:  10%|█         | 1/10 [00:00<00:07,  1.27it/s]c:\\Users\\Матвей\\AppData\\Local\\Programs\\Python\\Python313\\Lib\\site-packages\\urllib3\\connectionpool.py:1097: InsecureRequestWarning: Unverified HTTPS request is being made to host 'gigachat.devices.sberbank.ru'. Adding certificate verification is strongly advised. See: https://urllib3.readthedocs.io/en/latest/advanced-usage.html#tls-warnings\n",
      "  warnings.warn(\n",
      "GigaChat Processing:  20%|██        | 2/10 [00:00<00:03,  2.24it/s]c:\\Users\\Матвей\\AppData\\Local\\Programs\\Python\\Python313\\Lib\\site-packages\\urllib3\\connectionpool.py:1097: InsecureRequestWarning: Unverified HTTPS request is being made to host 'gigachat.devices.sberbank.ru'. Adding certificate verification is strongly advised. See: https://urllib3.readthedocs.io/en/latest/advanced-usage.html#tls-warnings\n",
      "  warnings.warn(\n",
      "GigaChat Processing:  30%|███       | 3/10 [00:01<00:02,  2.84it/s]c:\\Users\\Матвей\\AppData\\Local\\Programs\\Python\\Python313\\Lib\\site-packages\\urllib3\\connectionpool.py:1097: InsecureRequestWarning: Unverified HTTPS request is being made to host 'gigachat.devices.sberbank.ru'. Adding certificate verification is strongly advised. See: https://urllib3.readthedocs.io/en/latest/advanced-usage.html#tls-warnings\n",
      "  warnings.warn(\n",
      "GigaChat Processing:  40%|████      | 4/10 [00:01<00:01,  3.17it/s]c:\\Users\\Матвей\\AppData\\Local\\Programs\\Python\\Python313\\Lib\\site-packages\\urllib3\\connectionpool.py:1097: InsecureRequestWarning: Unverified HTTPS request is being made to host 'gigachat.devices.sberbank.ru'. Adding certificate verification is strongly advised. See: https://urllib3.readthedocs.io/en/latest/advanced-usage.html#tls-warnings\n",
      "  warnings.warn(\n",
      "GigaChat Processing:  50%|█████     | 5/10 [00:01<00:01,  3.53it/s]c:\\Users\\Матвей\\AppData\\Local\\Programs\\Python\\Python313\\Lib\\site-packages\\urllib3\\connectionpool.py:1097: InsecureRequestWarning: Unverified HTTPS request is being made to host 'gigachat.devices.sberbank.ru'. Adding certificate verification is strongly advised. See: https://urllib3.readthedocs.io/en/latest/advanced-usage.html#tls-warnings\n",
      "  warnings.warn(\n",
      "GigaChat Processing:  60%|██████    | 6/10 [00:02<00:01,  3.42it/s]c:\\Users\\Матвей\\AppData\\Local\\Programs\\Python\\Python313\\Lib\\site-packages\\urllib3\\connectionpool.py:1097: InsecureRequestWarning: Unverified HTTPS request is being made to host 'gigachat.devices.sberbank.ru'. Adding certificate verification is strongly advised. See: https://urllib3.readthedocs.io/en/latest/advanced-usage.html#tls-warnings\n",
      "  warnings.warn(\n",
      "GigaChat Processing:  70%|███████   | 7/10 [00:02<00:00,  3.37it/s]c:\\Users\\Матвей\\AppData\\Local\\Programs\\Python\\Python313\\Lib\\site-packages\\urllib3\\connectionpool.py:1097: InsecureRequestWarning: Unverified HTTPS request is being made to host 'gigachat.devices.sberbank.ru'. Adding certificate verification is strongly advised. See: https://urllib3.readthedocs.io/en/latest/advanced-usage.html#tls-warnings\n",
      "  warnings.warn(\n",
      "GigaChat Processing:  80%|████████  | 8/10 [00:02<00:00,  3.52it/s]c:\\Users\\Матвей\\AppData\\Local\\Programs\\Python\\Python313\\Lib\\site-packages\\urllib3\\connectionpool.py:1097: InsecureRequestWarning: Unverified HTTPS request is being made to host 'gigachat.devices.sberbank.ru'. Adding certificate verification is strongly advised. See: https://urllib3.readthedocs.io/en/latest/advanced-usage.html#tls-warnings\n",
      "  warnings.warn(\n",
      "GigaChat Processing:  90%|█████████ | 9/10 [00:02<00:00,  3.49it/s]c:\\Users\\Матвей\\AppData\\Local\\Programs\\Python\\Python313\\Lib\\site-packages\\urllib3\\connectionpool.py:1097: InsecureRequestWarning: Unverified HTTPS request is being made to host 'gigachat.devices.sberbank.ru'. Adding certificate verification is strongly advised. See: https://urllib3.readthedocs.io/en/latest/advanced-usage.html#tls-warnings\n",
      "  warnings.warn(\n",
      "GigaChat Processing: 100%|██████████| 10/10 [00:03<00:00,  3.05it/s]"
     ]
    },
    {
     "name": "stdout",
     "output_type": "stream",
     "text": [
      "✅ Результаты GigaChat сохранены в 'gigachat_vision_results_v3.csv'.\n"
     ]
    },
    {
     "name": "stderr",
     "output_type": "stream",
     "text": [
      "\n"
     ]
    },
    {
     "data": {
      "text/html": [
       "<div>\n",
       "<style scoped>\n",
       "    .dataframe tbody tr th:only-of-type {\n",
       "        vertical-align: middle;\n",
       "    }\n",
       "\n",
       "    .dataframe tbody tr th {\n",
       "        vertical-align: top;\n",
       "    }\n",
       "\n",
       "    .dataframe thead th {\n",
       "        text-align: right;\n",
       "    }\n",
       "</style>\n",
       "<table border=\"1\" class=\"dataframe\">\n",
       "  <thead>\n",
       "    <tr style=\"text-align: right;\">\n",
       "      <th></th>\n",
       "      <th>filename</th>\n",
       "      <th>gigachat_response</th>\n",
       "    </tr>\n",
       "  </thead>\n",
       "  <tbody>\n",
       "    <tr>\n",
       "      <th>0</th>\n",
       "      <td>rus1.jpg</td>\n",
       "      <td>Error: HTTPError, Details: 402 Client Error: P...</td>\n",
       "    </tr>\n",
       "    <tr>\n",
       "      <th>1</th>\n",
       "      <td>rus2.jpg</td>\n",
       "      <td>Error: HTTPError, Details: 402 Client Error: P...</td>\n",
       "    </tr>\n",
       "    <tr>\n",
       "      <th>2</th>\n",
       "      <td>rus3.jpg</td>\n",
       "      <td>Error: HTTPError, Details: 402 Client Error: P...</td>\n",
       "    </tr>\n",
       "    <tr>\n",
       "      <th>3</th>\n",
       "      <td>rus4.jpg</td>\n",
       "      <td>Error: HTTPError, Details: 402 Client Error: P...</td>\n",
       "    </tr>\n",
       "    <tr>\n",
       "      <th>4</th>\n",
       "      <td>rus5.jpg</td>\n",
       "      <td>Error: HTTPError, Details: 402 Client Error: P...</td>\n",
       "    </tr>\n",
       "  </tbody>\n",
       "</table>\n",
       "</div>"
      ],
      "text/plain": [
       "   filename                                  gigachat_response\n",
       "0  rus1.jpg  Error: HTTPError, Details: 402 Client Error: P...\n",
       "1  rus2.jpg  Error: HTTPError, Details: 402 Client Error: P...\n",
       "2  rus3.jpg  Error: HTTPError, Details: 402 Client Error: P...\n",
       "3  rus4.jpg  Error: HTTPError, Details: 402 Client Error: P...\n",
       "4  rus5.jpg  Error: HTTPError, Details: 402 Client Error: P..."
      ]
     },
     "metadata": {},
     "output_type": "display_data"
    }
   ],
   "source": [
    "# --- СКРИПТ ДЛЯ SBER GIGACHAT (С ИСПРАВЛЕНИЕМ РАЗМЕРА ИЗОБРАЖЕНИЙ) ---\n",
    "\n",
    "import os\n",
    "import pandas as pd\n",
    "from tqdm import tqdm\n",
    "from dotenv import load_dotenv\n",
    "import requests\n",
    "import base64\n",
    "import uuid\n",
    "import json\n",
    "from PIL import Image # Импортируем библиотеку для сжатия\n",
    "import io\n",
    "\n",
    "# --- 1. Загрузка ключа и функция для получения токена ---\n",
    "load_dotenv()\n",
    "GIGACHAT_AUTH_DATA = os.getenv(\"GIGACHAT_AUTH_DATA\")\n",
    "\n",
    "def get_gigachat_token():\n",
    "    if not GIGACHAT_AUTH_DATA: return None\n",
    "    url = \"https://ngw.devices.sberbank.ru:9443/api/v2/oauth\"\n",
    "    headers = {'Content-Type': 'application/x-www-form-urlencoded', 'Accept': 'application/json', 'RqUID': str(uuid.uuid4()), 'Authorization': f'Basic {GIGACHAT_AUTH_DATA}'}\n",
    "    payload = 'scope=GIGACHAT_API_PERS'\n",
    "    try:\n",
    "        response = requests.post(url, headers=headers, data=payload, verify=False)\n",
    "        response.raise_for_status()\n",
    "        return response.json()['access_token']\n",
    "    except requests.exceptions.RequestException as e:\n",
    "        print(f\"❌ Ошибка получения токена GigaChat: {e}\")\n",
    "        return None\n",
    "\n",
    "# --- 2. Конфигурация и НОВАЯ ФУНКЦИЯ сжатия ---\n",
    "IMG_DIR = \"img3\"\n",
    "PROMPT = \"Скажи, изображена ли на данном фото кошка породы \\\"Британская короткошерстная\\\", дай коротки ответ \\\"да\\\" или \\\"нет\\\". Опиши одним словом каждый признак, который убедил тебя в правильности или неправильности ответа. Если это не британская короткошерстная кошка, скажи какая это порода.\"\n",
    "GIGACHAT_RESULTS_FILE = \"gigachat_vision_results_v3.csv\"\n",
    "MODEL_GIGACHAT = \"GigaChat:latest\"\n",
    "\n",
    "# --- НОВАЯ ФУНКЦИЯ: Изменение размера изображения ---\n",
    "def resize_image(image_path, max_size=(1024, 1024)):\n",
    "    \"\"\"Открывает изображение, изменяет его размер и возвращает в виде байтов.\"\"\"\n",
    "    with Image.open(image_path) as img:\n",
    "        img.thumbnail(max_size)\n",
    "        byte_arr = io.BytesIO()\n",
    "        if img.mode in (\"RGBA\", \"P\"): img = img.convert(\"RGB\")\n",
    "        img.save(byte_arr, format='JPEG')\n",
    "        return byte_arr.getvalue()\n",
    "\n",
    "# --- 3. Функция запроса к GigaChat API (ОБНОВЛЕННАЯ) ---\n",
    "def query_gigachat_vision(image_path, prompt, access_token):\n",
    "    url = \"https://gigachat.devices.sberbank.ru/api/v1/chat/completions\"\n",
    "    headers = {'Content-Type': 'application/json', 'Accept': 'application/json', 'Authorization': f'Bearer {access_token}'}\n",
    "    try:\n",
    "        # <-- НОВЫЙ ШАГ: Сжимаем изображение перед кодированием\n",
    "        resized_image_bytes = resize_image(image_path)\n",
    "        base64_image = base64.b64encode(resized_image_bytes).decode('utf-8')\n",
    "        \n",
    "        payload = {\"model\": MODEL_GIGACHAT, \"messages\": [{\"role\": \"user\", \"content\": f'<img src=\"data:image/jpeg;base64,{base64_image}\" /> {prompt}'}], \"temperature\": 0.7, \"max_tokens\": 100}\n",
    "        response = requests.post(url, headers=headers, json=payload, verify=False, timeout=60)\n",
    "        response.raise_for_status()\n",
    "        return response.json()['choices'][0]['message']['content'].strip()\n",
    "    except Exception as e:\n",
    "        return f\"Error: {type(e).__name__}, Details: {e}\"\n",
    "\n",
    "# --- 4. Основной цикл ---\n",
    "print(\"Получаем токен доступа для GigaChat...\")\n",
    "access_token = get_gigachat_token()\n",
    "\n",
    "if access_token:\n",
    "    print(\"✅ Токен успешно получен. Начинаем работу.\")\n",
    "    try:\n",
    "        image_files = sorted([f for f in os.listdir(IMG_DIR) if f.endswith(('.jpg', '.jpeg', '.png'))])\n",
    "        results_data = []\n",
    "        for filename in tqdm(image_files, desc=\"GigaChat Processing\"):\n",
    "            image_path = os.path.join(IMG_DIR, filename)\n",
    "            response = query_gigachat_vision(image_path, PROMPT, access_token)\n",
    "            results_data.append({\"filename\": filename, \"gigachat_response\": response})\n",
    "        \n",
    "        df_results = pd.DataFrame(results_data)\n",
    "        df_results.to_csv(GIGACHAT_RESULTS_FILE, index=False, encoding='utf-8')\n",
    "        print(f\"✅ Результаты GigaChat сохранены в '{GIGACHAT_RESULTS_FILE}'.\")\n",
    "        display(df_results.head())\n",
    "    except FileNotFoundError:\n",
    "        print(f\"❌ Ошибка: Директория '{IMG_DIR}' не найдена.\")\n",
    "else:\n",
    "    print(\"❌ Основной процесс не был запущен из-за ошибки получения токена.\")"
   ]
  }
 ],
 "metadata": {
  "kernelspec": {
   "display_name": "Python 3",
   "language": "python",
   "name": "python3"
  },
  "language_info": {
   "codemirror_mode": {
    "name": "ipython",
    "version": 3
   },
   "file_extension": ".py",
   "mimetype": "text/x-python",
   "name": "python",
   "nbconvert_exporter": "python",
   "pygments_lexer": "ipython3",
   "version": "3.13.7"
  }
 },
 "nbformat": 4,
 "nbformat_minor": 5
}
